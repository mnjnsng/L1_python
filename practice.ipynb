{
 "cells": [
  {
   "cell_type": "code",
   "execution_count": 4,
   "metadata": {},
   "outputs": [
    {
     "name": "stdout",
     "output_type": "stream",
     "text": [
      "[array([[-1.39081868]]), array([[28.79556744]]), array([[-547.99244445]]), array([[10411.88438047]]), array([[-197828.91504914]]), array([[3758751.76620421]]), array([[-71416285.70215856]]), array([[1.35690943e+09]]), array([[-2.57812792e+10]]), array([[4.89844304e+11]]), array([[-9.30704178e+12]]), array([[1.76833794e+14]]), array([[-3.35984208e+15]]), array([[6.38369996e+16]]), array([[-1.21290299e+18]]), array([[2.30451569e+19]]), array([[-4.3785798e+20]]), array([[8.31930162e+21]]), array([[-1.58066731e+23]]), array([[3.00326789e+24]]), array([[-5.70620898e+25]]), array([[1.08417971e+27]]), array([[-2.05994144e+28]]), array([[3.91388874e+29]]), array([[-7.43638861e+30]]), array([[1.41291384e+32]]), array([[-2.68453629e+33]]), array([[5.10061895e+34]]), array([[-9.691176e+35]]), array([[1.84132344e+37]]), array([[-3.49851454e+38]]), array([[6.64717762e+39]]), array([[-1.26296375e+41]]), array([[2.39963112e+42]]), array([[-4.55929913e+43]]), array([[8.66266834e+44]]), array([[-1.64590699e+46]]), array([[3.12722327e+47]]), array([[-5.94172422e+48]]), array([[1.1289276e+50]]), array([[-2.14496244e+51]]), array([[4.07542864e+52]]), array([[-7.74331442e+53]]), array([[1.47122974e+55]]), array([[-2.7953365e+56]]), array([[5.31113936e+57]]), array([[-1.00911648e+59]]), array([[1.91732131e+60]]), array([[-3.64291049e+61]]), array([[6.92152992e+62]]), array([[-1.31509069e+64]]), array([[2.4986723e+65]]), array([[-4.74747738e+66]]), array([[9.02020701e+67]]), array([[-1.71383933e+69]]), array([[3.25629473e+70]]), array([[-6.18695999e+71]]), array([[1.1755224e+73]]), array([[-2.23349256e+74]]), array([[4.24363586e+75]]), array([[-8.06290813e+76]]), array([[1.53195254e+78]]), array([[-2.91070983e+79]]), array([[5.53034869e+80]]), array([[-1.05076625e+82]]), array([[1.99645588e+83]]), array([[-3.79326616e+84]]), array([[7.20720571e+85]]), array([[-1.36936908e+87]]), array([[2.60180126e+88]]), array([[-4.9434224e+89]]), array([[9.39250255e+90]]), array([[-1.78457549e+92]]), array([[3.39069342e+93]]), array([[-6.4423175e+94]]), array([[1.22404033e+96]]), array([[-2.32567662e+97]]), array([[4.41878557e+98]]), array([[-8.39569259e+99]]), array([[1.59518159e+101]]), array([[-3.03084503e+102]]), array([[5.75860555e+103]]), array([[-1.09413505e+105]]), array([[2.0788566e+106]]), array([[-3.94982755e+107]]), array([[7.50467234e+108]]), array([[-1.42588774e+110]]), array([[2.70918671e+111]]), array([[-5.14745476e+112]]), array([[9.78016404e+113]]), array([[-1.85823117e+115]]), array([[3.53063922e+116]]), array([[-6.70821451e+117]]), array([[1.27456076e+119]]), array([[-2.42166544e+120]]), array([[4.60116433e+121]]), array([[-8.74221223e+122]]), array([[1.66102032e+124]]), array([[-3.15593862e+125]]), array([[5.99628337e+126]]), array([[-1.13929384e+128]]), array([[2.1646583e+129]]), array([[-4.11285076e+130]]), array([[7.81441645e+131]]), array([[-1.48473913e+133]]), array([[2.82100434e+134]]), array([[-5.35990824e+135]]), array([[1.01838257e+137]]), array([[-1.93492688e+138]]), array([[3.67636107e+139]]), array([[-6.98508602e+140]]), array([[1.32716634e+142]]), array([[-2.52161605e+143]]), array([[4.7910705e+144]]), array([[-9.10303396e+145]]), array([[1.72957645e+147]]), array([[-3.28619526e+148]]), array([[6.24377099e+149]]), array([[-1.18631649e+151]]), array([[2.25400133e+152]]), array([[-4.28260252e+153]]), array([[8.13694479e+154]]), array([[-1.54601951e+156]]), array([[2.93743707e+157]]), array([[-5.58113043e+158]]), array([[1.06041478e+160]]), array([[-2.01478809e+161]]), array([[3.82809736e+162]]), array([[-7.27338499e+163]]), array([[1.38194315e+165]]), array([[-2.62569198e+166]]), array([[4.98881477e+167]]), array([[-9.47874806e+168]]), array([[1.80096213e+170]]), array([[-3.42182805e+171]]), array([[6.50147329e+172]]), array([[-1.23527993e+174]]), array([[2.34703186e+175]]), array([[-4.45936053e+176]]), array([[8.47278501e+177]]), array([[-1.60982915e+179]]), array([[3.05867539e+180]]), array([[-5.81148324e+181]]), array([[1.10418182e+183]]), array([[-2.09794545e+184]]), array([[3.98609635e+185]]), array([[-7.57358307e+186]]), array([[1.43898078e+188]]), array([[-2.73406349e+189]]), array([[5.19472063e+190]]), array([[-9.86996919e+191]]), array([[1.87529415e+193]]), array([[-3.56305888e+194]]), array([[6.76981187e+195]]), array([[-1.28626426e+197]]), array([[2.44390208e+198]]), array([[-4.64341396e+199]]), array([[8.82248653e+200]]), array([[-1.67627244e+202]]), array([[3.18491764e+203]]), array([[-6.05134351e+204]]), array([[1.14975527e+206]]), array([[-2.18453501e+207]]), array([[4.15061651e+208]]), array([[-7.88617137e+209]]), array([[1.49837256e+211]]), array([[-2.84690787e+212]]), array([[5.40912494e+213]]), array([[-1.02773374e+215]]), array([[1.95269411e+216]]), array([[-3.7101188e+217]]), array([[7.04922572e+218]]), array([[-1.33935289e+220]]), array([[2.54477048e+221]]), array([[-4.83506392e+222]]), array([[9.18662145e+223]]), array([[-1.74545808e+225]]), array([[3.31637034e+226]]), array([[-6.30110365e+227]]), array([[1.19720969e+229]]), array([[-2.27469842e+230]]), array([[4.321927e+231]]), array([[-8.21166129e+232]]), array([[1.56021565e+234]]), array([[-2.96440973e+235]]), array([[5.63237848e+236]]), array([[-1.07015191e+238]]), array([[2.03328863e+239]]), array([[-3.8632484e+240]]), array([[7.34017196e+241]]), array([[-1.39463267e+243]]), array([[2.64980208e+244]]), array([[-5.03462395e+245]]), array([[9.5657855e+246]]), array([[-1.81749924e+248]]), array([[3.45324856e+249]]), array([[-6.56117227e+250]]), array([[1.24662273e+252]]), array([[-2.36858319e+253]]), array([[4.50030806e+254]]), array([[-8.55058532e+255]]), array([[1.62461121e+257]]), array([[-3.0867613e+258]]), array([[5.86484647e+259]]), array([[-1.11432083e+261]]), array([[2.11720958e+262]]), array([[-4.02269819e+263]]), array([[7.64312657e+264]]), array([[-1.45219405e+266]]), array([[2.75916869e+267]]), array([[-5.24242051e+268]]), array([[9.96059897e+269]]), array([[-1.89251381e+271]]), array([[3.59577623e+272]]), array([[-6.83197484e+273]]), array([[1.29807522e+275]]), array([[-2.46634292e+276]]), array([[4.68605154e+277]]), array([[-8.90349793e+278]]), array([[1.69166461e+280]]), array([[-3.21416275e+281]]), array([[6.10690923e+282]]), array([[-1.16031275e+284]]), array([[2.20459423e+285]]), array([[-4.18872904e+286]]), array([[7.95858517e+287]]), array([[-1.51213118e+289]]), array([[2.87304925e+290]]), array([[-5.45879357e+291]]), array([[1.03717078e+293]]), array([[-1.97062448e+294]]), array([[3.74418651e+295]]), array([[-7.11395437e+296]]), array([[1.35165133e+298]]), array([[-2.56813753e+299]]), array([[4.8794613e+300]]), array([[-9.27097647e+301]]), array([[1.76148553e+303]]), array([[-3.34682251e+304]]), array([[6.35896276e+305]]), array([[-1.20820293e+307]]), array([[inf]]), array([[nan]]), array([[nan]]), array([[nan]]), array([[nan]]), array([[nan]]), array([[nan]]), array([[nan]]), array([[nan]]), array([[nan]]), array([[nan]]), array([[nan]]), array([[nan]]), array([[nan]]), array([[nan]]), array([[nan]]), array([[nan]]), array([[nan]]), array([[nan]]), array([[nan]]), array([[nan]]), array([[nan]]), array([[nan]]), array([[nan]]), array([[nan]]), array([[nan]]), array([[nan]]), array([[nan]]), array([[nan]]), array([[nan]]), array([[nan]]), array([[nan]]), array([[nan]]), array([[nan]]), array([[nan]]), array([[nan]]), array([[nan]]), array([[nan]]), array([[nan]]), array([[nan]]), array([[nan]]), array([[nan]]), array([[nan]]), array([[nan]]), array([[nan]]), array([[nan]]), array([[nan]]), array([[nan]]), array([[nan]]), array([[nan]]), array([[nan]]), array([[nan]]), array([[nan]]), array([[nan]]), array([[nan]]), array([[nan]]), array([[nan]]), array([[nan]]), array([[nan]]), array([[nan]]), array([[nan]]), array([[nan]]), array([[nan]]), array([[nan]]), array([[nan]]), array([[nan]]), array([[nan]]), array([[nan]]), array([[nan]]), array([[nan]]), array([[nan]]), array([[nan]]), array([[nan]]), array([[nan]]), array([[nan]]), array([[nan]]), array([[nan]]), array([[nan]]), array([[nan]]), array([[nan]]), array([[nan]]), array([[nan]]), array([[nan]]), array([[nan]]), array([[nan]]), array([[nan]]), array([[nan]]), array([[nan]]), array([[nan]]), array([[nan]]), array([[nan]]), array([[nan]]), array([[nan]]), array([[nan]]), array([[nan]]), array([[nan]]), array([[nan]]), array([[nan]]), array([[nan]]), array([[nan]]), array([[nan]]), array([[nan]]), array([[nan]]), array([[nan]]), array([[nan]]), array([[nan]]), array([[nan]]), array([[nan]]), array([[nan]]), array([[nan]]), array([[nan]]), array([[nan]]), array([[nan]]), array([[nan]]), array([[nan]]), array([[nan]]), array([[nan]]), array([[nan]]), array([[nan]]), array([[nan]]), array([[nan]]), array([[nan]]), array([[nan]]), array([[nan]]), array([[nan]]), array([[nan]]), array([[nan]]), array([[nan]]), array([[nan]]), array([[nan]]), array([[nan]]), array([[nan]]), array([[nan]]), array([[nan]]), array([[nan]]), array([[nan]]), array([[nan]]), array([[nan]]), array([[nan]]), array([[nan]]), array([[nan]]), array([[nan]]), array([[nan]]), array([[nan]]), array([[nan]]), array([[nan]]), array([[nan]]), array([[nan]]), array([[nan]]), array([[nan]]), array([[nan]]), array([[nan]]), array([[nan]]), array([[nan]]), array([[nan]]), array([[nan]]), array([[nan]]), array([[nan]]), array([[nan]]), array([[nan]]), array([[nan]]), array([[nan]]), array([[nan]]), array([[nan]]), array([[nan]]), array([[nan]]), array([[nan]]), array([[nan]]), array([[nan]]), array([[nan]]), array([[nan]]), array([[nan]]), array([[nan]]), array([[nan]]), array([[nan]]), array([[nan]]), array([[nan]]), array([[nan]]), array([[nan]]), array([[nan]]), array([[nan]]), array([[nan]]), array([[nan]]), array([[nan]]), array([[nan]]), array([[nan]]), array([[nan]]), array([[nan]]), array([[nan]]), array([[nan]]), array([[nan]]), array([[nan]]), array([[nan]]), array([[nan]]), array([[nan]]), array([[nan]]), array([[nan]]), array([[nan]]), array([[nan]]), array([[nan]]), array([[nan]]), array([[nan]]), array([[nan]]), array([[nan]]), array([[nan]]), array([[nan]]), array([[nan]]), array([[nan]]), array([[nan]]), array([[nan]]), array([[nan]]), array([[nan]]), array([[nan]]), array([[nan]]), array([[nan]]), array([[nan]]), array([[nan]]), array([[nan]]), array([[nan]]), array([[nan]]), array([[nan]]), array([[nan]]), array([[nan]]), array([[nan]]), array([[nan]]), array([[nan]]), array([[nan]]), array([[nan]]), array([[nan]]), array([[nan]]), array([[nan]]), array([[nan]]), array([[nan]]), array([[nan]]), array([[nan]]), array([[nan]]), array([[nan]]), array([[nan]]), array([[nan]]), array([[nan]]), array([[nan]]), array([[nan]]), array([[nan]]), array([[nan]]), array([[nan]]), array([[nan]]), array([[nan]]), array([[nan]]), array([[nan]]), array([[nan]]), array([[nan]]), array([[nan]]), array([[nan]]), array([[nan]]), array([[nan]]), array([[nan]]), array([[nan]]), array([[nan]]), array([[nan]]), array([[nan]]), array([[nan]]), array([[nan]]), array([[nan]]), array([[nan]]), array([[nan]]), array([[nan]]), array([[nan]]), array([[nan]]), array([[nan]]), array([[nan]]), array([[nan]]), array([[nan]]), array([[nan]]), array([[nan]]), array([[nan]]), array([[nan]]), array([[nan]]), array([[nan]]), array([[nan]]), array([[nan]]), array([[nan]]), array([[nan]]), array([[nan]]), array([[nan]]), array([[nan]]), array([[nan]]), array([[nan]]), array([[nan]]), array([[nan]]), array([[nan]]), array([[nan]]), array([[nan]]), array([[nan]]), array([[nan]]), array([[nan]]), array([[nan]]), array([[nan]]), array([[nan]]), array([[nan]]), array([[nan]]), array([[nan]]), array([[nan]]), array([[nan]]), array([[nan]]), array([[nan]]), array([[nan]]), array([[nan]]), array([[nan]]), array([[nan]]), array([[nan]]), array([[nan]]), array([[nan]]), array([[nan]]), array([[nan]]), array([[nan]]), array([[nan]]), array([[nan]]), array([[nan]]), array([[nan]]), array([[nan]]), array([[nan]]), array([[nan]]), array([[nan]]), array([[nan]]), array([[nan]]), array([[nan]]), array([[nan]]), array([[nan]]), array([[nan]]), array([[nan]]), array([[nan]]), array([[nan]]), array([[nan]]), array([[nan]]), array([[nan]]), array([[nan]]), array([[nan]]), array([[nan]]), array([[nan]]), array([[nan]]), array([[nan]]), array([[nan]]), array([[nan]]), array([[nan]]), array([[nan]]), array([[nan]]), array([[nan]]), array([[nan]]), array([[nan]]), array([[nan]]), array([[nan]]), array([[nan]]), array([[nan]]), array([[nan]]), array([[nan]]), array([[nan]]), array([[nan]]), array([[nan]]), array([[nan]]), array([[nan]]), array([[nan]]), array([[nan]]), array([[nan]]), array([[nan]]), array([[nan]]), array([[nan]]), array([[nan]]), array([[nan]]), array([[nan]]), array([[nan]]), array([[nan]]), array([[nan]]), array([[nan]]), array([[nan]]), array([[nan]]), array([[nan]]), array([[nan]]), array([[nan]]), array([[nan]]), array([[nan]]), array([[nan]]), array([[nan]]), array([[nan]]), array([[nan]]), array([[nan]]), array([[nan]]), array([[nan]]), array([[nan]]), array([[nan]]), array([[nan]]), array([[nan]]), array([[nan]]), array([[nan]]), array([[nan]]), array([[nan]]), array([[nan]]), array([[nan]]), array([[nan]]), array([[nan]]), array([[nan]]), array([[nan]]), array([[nan]]), array([[nan]]), array([[nan]]), array([[nan]]), array([[nan]]), array([[nan]]), array([[nan]]), array([[nan]]), array([[nan]]), array([[nan]]), array([[nan]]), array([[nan]]), array([[nan]]), array([[nan]]), array([[nan]]), array([[nan]]), array([[nan]]), array([[nan]]), array([[nan]]), array([[nan]]), array([[nan]]), array([[nan]]), array([[nan]]), array([[nan]]), array([[nan]]), array([[nan]]), array([[nan]]), array([[nan]]), array([[nan]]), array([[nan]]), array([[nan]]), array([[nan]]), array([[nan]]), array([[nan]]), array([[nan]]), array([[nan]]), array([[nan]]), array([[nan]]), array([[nan]]), array([[nan]]), array([[nan]]), array([[nan]]), array([[nan]]), array([[nan]]), array([[nan]]), array([[nan]]), array([[nan]]), array([[nan]]), array([[nan]]), array([[nan]]), array([[nan]]), array([[nan]]), array([[nan]]), array([[nan]]), array([[nan]]), array([[nan]]), array([[nan]]), array([[nan]]), array([[nan]]), array([[nan]]), array([[nan]]), array([[nan]]), array([[nan]]), array([[nan]]), array([[nan]]), array([[nan]]), array([[nan]]), array([[nan]]), array([[nan]]), array([[nan]]), array([[nan]]), array([[nan]]), array([[nan]]), array([[nan]]), array([[nan]]), array([[nan]]), array([[nan]]), array([[nan]]), array([[nan]]), array([[nan]]), array([[nan]]), array([[nan]]), array([[nan]]), array([[nan]]), array([[nan]]), array([[nan]]), array([[nan]]), array([[nan]]), array([[nan]]), array([[nan]]), array([[nan]]), array([[nan]]), array([[nan]]), array([[nan]]), array([[nan]]), array([[nan]]), array([[nan]]), array([[nan]]), array([[nan]]), array([[nan]]), array([[nan]]), array([[nan]]), array([[nan]]), array([[nan]]), array([[nan]]), array([[nan]]), array([[nan]]), array([[nan]]), array([[nan]]), array([[nan]]), array([[nan]]), array([[nan]]), array([[nan]]), array([[nan]]), array([[nan]]), array([[nan]]), array([[nan]]), array([[nan]]), array([[nan]]), array([[nan]]), array([[nan]]), array([[nan]]), array([[nan]]), array([[nan]]), array([[nan]]), array([[nan]]), array([[nan]]), array([[nan]]), array([[nan]]), array([[nan]]), array([[nan]]), array([[nan]]), array([[nan]]), array([[nan]]), array([[nan]]), array([[nan]]), array([[nan]]), array([[nan]]), array([[nan]]), array([[nan]]), array([[nan]]), array([[nan]]), array([[nan]]), array([[nan]]), array([[nan]]), array([[nan]]), array([[nan]]), array([[nan]]), array([[nan]]), array([[nan]]), array([[nan]]), array([[nan]]), array([[nan]]), array([[nan]]), array([[nan]]), array([[nan]]), array([[nan]]), array([[nan]]), array([[nan]]), array([[nan]]), array([[nan]]), array([[nan]]), array([[nan]]), array([[nan]]), array([[nan]]), array([[nan]]), array([[nan]]), array([[nan]]), array([[nan]]), array([[nan]]), array([[nan]]), array([[nan]]), array([[nan]]), array([[nan]]), array([[nan]]), array([[nan]]), array([[nan]]), array([[nan]]), array([[nan]]), array([[nan]]), array([[nan]]), array([[nan]]), array([[nan]]), array([[nan]]), array([[nan]]), array([[nan]]), array([[nan]]), array([[nan]]), array([[nan]]), array([[nan]]), array([[nan]]), array([[nan]]), array([[nan]]), array([[nan]]), array([[nan]]), array([[nan]]), array([[nan]]), array([[nan]]), array([[nan]]), array([[nan]]), array([[nan]]), array([[nan]]), array([[nan]]), array([[nan]]), array([[nan]]), array([[nan]]), array([[nan]]), array([[nan]]), array([[nan]]), array([[nan]]), array([[nan]]), array([[nan]]), array([[nan]]), array([[nan]]), array([[nan]]), array([[nan]]), array([[nan]]), array([[nan]]), array([[nan]]), array([[nan]]), array([[nan]]), array([[nan]]), array([[nan]]), array([[nan]]), array([[nan]]), array([[nan]]), array([[nan]]), array([[nan]]), array([[nan]]), array([[nan]]), array([[nan]]), array([[nan]]), array([[nan]]), array([[nan]]), array([[nan]]), array([[nan]]), array([[nan]]), array([[nan]]), array([[nan]]), array([[nan]]), array([[nan]]), array([[nan]]), array([[nan]]), array([[nan]]), array([[nan]]), array([[nan]]), array([[nan]]), array([[nan]]), array([[nan]]), array([[nan]]), array([[nan]]), array([[nan]]), array([[nan]]), array([[nan]]), array([[nan]]), array([[nan]]), array([[nan]]), array([[nan]]), array([[nan]]), array([[nan]]), array([[nan]]), array([[nan]]), array([[nan]]), array([[nan]]), array([[nan]]), array([[nan]]), array([[nan]]), array([[nan]]), array([[nan]]), array([[nan]]), array([[nan]]), array([[nan]]), array([[nan]]), array([[nan]]), array([[nan]]), array([[nan]]), array([[nan]]), array([[nan]]), array([[nan]]), array([[nan]]), array([[nan]]), array([[nan]]), array([[nan]]), array([[nan]]), array([[nan]]), array([[nan]]), array([[nan]]), array([[nan]]), array([[nan]]), array([[nan]]), array([[nan]]), array([[nan]]), array([[nan]]), array([[nan]]), array([[nan]]), array([[nan]]), array([[nan]]), array([[nan]]), array([[nan]]), array([[nan]]), array([[nan]]), array([[nan]]), array([[nan]]), array([[nan]]), array([[nan]]), array([[nan]]), array([[nan]]), array([[nan]]), array([[nan]]), array([[nan]]), array([[nan]]), array([[nan]]), array([[nan]]), array([[nan]]), array([[nan]]), array([[nan]]), array([[nan]]), array([[nan]]), array([[nan]]), array([[nan]]), array([[nan]]), array([[nan]]), array([[nan]]), array([[nan]]), array([[nan]]), array([[nan]]), array([[nan]]), array([[nan]]), array([[nan]]), array([[nan]]), array([[nan]]), array([[nan]]), array([[nan]]), array([[nan]]), array([[nan]]), array([[nan]]), array([[nan]]), array([[nan]]), array([[nan]]), array([[nan]]), array([[nan]]), array([[nan]]), array([[nan]]), array([[nan]]), array([[nan]]), array([[nan]]), array([[nan]]), array([[nan]]), array([[nan]]), array([[nan]]), array([[nan]]), array([[nan]]), array([[nan]]), array([[nan]]), array([[nan]]), array([[nan]]), array([[nan]]), array([[nan]])]\n"
     ]
    }
   ],
   "source": [
    "import numpy as np\n",
    "from L1_adapt import L1_adapt\n",
    "def f(x):\n",
    "    Am = np.array([[0,1,0,0],[0,0, 0, -9.8],[0, 0, 0, 32.667],[0, 0, 1, 0]])\n",
    "    return np.matmul(Am,x)\n",
    "\n",
    "def g(x):\n",
    "    Bm = np.array([[0,2,-3.33,0]]).T\n",
    "    return Bm\n",
    "\n",
    "x = np.array([[0,0,0,0]]).T\n",
    "u_l1 = 0\n",
    "a = L1_adapt(f,g,x,u_l1)\n",
    "xlog = []\n",
    "ulog = []\n",
    "kg =np.array([-1.0000, -2.1244, -5.4229, -27.0133])\n",
    "\n",
    "\n",
    "\n",
    "for t in range(1000):\n",
    "    x,u_l1 = a.get_next_x_u(x, u_l1+kg@x)\n",
    "    xlog.append(x[3])\n",
    "    ulog.append(u_l1+kg@x)\n",
    "print(ulog)\n"
   ]
  },
  {
   "cell_type": "code",
   "execution_count": 14,
   "metadata": {},
   "outputs": [
    {
     "name": "stdout",
     "output_type": "stream",
     "text": [
      "[[-3.39360488e-16]]\n",
      "[[ 4.89559565]\n",
      " [-8.15116676]\n",
      " [-9.50833194]]\n"
     ]
    }
   ],
   "source": [
    "from scipy.linalg import inv, null_space\n",
    "def f(x):\n",
    "    Am = np.array([[0,1,0,0],[0,0, 0, -9.8],[0, 0, 0, 32.667],[0, 0, 1, 0]])\n",
    "    return np.matmul(Am,x)\n",
    "\n",
    "def g(x):\n",
    "    Bm = np.array([[0,2,-3.33,0]]).T\n",
    "    return Bm\n",
    "\n",
    "x = np.array([[0,0,0,0]]).T\n",
    "u = 0\n",
    "\n",
    "a = L1_adapt(f,g,x,u)\n",
    "Ts = 0.01\n",
    "g=g(x)\n",
    "g_perp = null_space(g.T)\n",
    "\n",
    "gg = np.concatenate((g,g_perp),axis=1)\n",
    "\n",
    "x_tilde = np.array([[0.1,0,0,0.1]]).T\n",
    "As = -10*np.eye(4)\n",
    "\n",
    "sm, s_um = a.adaptive_law(gg, x_tilde,As,Ts, 4,1)\n",
    "print(sm)\n",
    "print(s_um)"
   ]
  },
  {
   "cell_type": "code",
   "execution_count": 42,
   "metadata": {},
   "outputs": [
    {
     "data": {
      "text/plain": [
       "array([[1.  , 0.  , 0.  ],\n",
       "       [0.  , 0.  , 3.33],\n",
       "       [0.  , 0.  , 2.  ],\n",
       "       [0.  , 1.  , 0.  ]])"
      ]
     },
     "execution_count": 42,
     "metadata": {},
     "output_type": "execute_result"
    }
   ],
   "source": [
    "\n",
    "g_perp = np.array([[1, 0, 0],[0, 0, -float(g[2])],[0, 0, float(g[1])],[0, 1, 0]])\n",
    "g_perp"
   ]
  },
  {
   "cell_type": "code",
   "execution_count": 47,
   "metadata": {},
   "outputs": [
    {
     "name": "stdout",
     "output_type": "stream",
     "text": [
      "[[0.]]\n"
     ]
    }
   ],
   "source": [
    "from scipy.linalg import expm\n",
    "Ts = 0.01\n",
    "As = -10*np.eye(4)\n",
    "Mat_expm = expm(As*0.01)\n",
    "Phi = inv(As) * (Mat_expm - np.eye(4))\n",
    "adapt_gain = -inv(Phi)*Mat_expm\n",
    "\n",
    "gg = np.concatenate((g,g_perp),axis=1)\n",
    "sigma_hat = inv(gg) @ adapt_gain @ x_tilde\n",
    "print(sigma_hat[0:1])"
   ]
  },
  {
   "cell_type": "code",
   "execution_count": 46,
   "metadata": {},
   "outputs": [
    {
     "data": {
      "text/plain": [
       "array([[0.]])"
      ]
     },
     "execution_count": 46,
     "metadata": {},
     "output_type": "execute_result"
    }
   ],
   "source": [
    "sigma_hat_m = np.zeros(shape = (1,1))\n",
    "sigma_hat_m"
   ]
  }
 ],
 "metadata": {
  "interpreter": {
   "hash": "9e7e6cd1fea435ab5045d6533050149388c6a0e36306aa73c9ad18d75cf4b0bc"
  },
  "kernelspec": {
   "display_name": "Python 3.8.8 ('base')",
   "language": "python",
   "name": "python3"
  },
  "language_info": {
   "codemirror_mode": {
    "name": "ipython",
    "version": 3
   },
   "file_extension": ".py",
   "mimetype": "text/x-python",
   "name": "python",
   "nbconvert_exporter": "python",
   "pygments_lexer": "ipython3",
   "version": "3.8.8"
  },
  "orig_nbformat": 4
 },
 "nbformat": 4,
 "nbformat_minor": 2
}
