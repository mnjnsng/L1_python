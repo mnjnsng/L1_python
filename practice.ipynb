{
 "cells": [
  {
   "cell_type": "code",
   "execution_count": 1,
   "metadata": {},
   "outputs": [
    {
     "ename": "ModuleNotFoundError",
     "evalue": "No module named 'control'",
     "output_type": "error",
     "traceback": [
      "\u001b[1;31m---------------------------------------------------------------------------\u001b[0m",
      "\u001b[1;31mModuleNotFoundError\u001b[0m                       Traceback (most recent call last)",
      "\u001b[1;32m<ipython-input-1-81a14efc6d21>\u001b[0m in \u001b[0;36m<module>\u001b[1;34m\u001b[0m\n\u001b[0;32m      1\u001b[0m \u001b[1;32mimport\u001b[0m \u001b[0mnumpy\u001b[0m \u001b[1;32mas\u001b[0m \u001b[0mnp\u001b[0m\u001b[1;33m\u001b[0m\u001b[1;33m\u001b[0m\u001b[0m\n\u001b[0;32m      2\u001b[0m \u001b[1;32mfrom\u001b[0m \u001b[0mscipy\u001b[0m\u001b[1;33m.\u001b[0m\u001b[0mlinalg\u001b[0m \u001b[1;32mimport\u001b[0m \u001b[0mnull_space\u001b[0m\u001b[1;33m\u001b[0m\u001b[1;33m\u001b[0m\u001b[0m\n\u001b[1;32m----> 3\u001b[1;33m \u001b[1;32mimport\u001b[0m \u001b[0mcontrol\u001b[0m\u001b[1;33m\u001b[0m\u001b[1;33m\u001b[0m\u001b[0m\n\u001b[0m",
      "\u001b[1;31mModuleNotFoundError\u001b[0m: No module named 'control'"
     ]
    }
   ],
   "source": [
    "import numpy as np\n",
    "import control\n",
    "from l1_adaptive_controller import L1_adapt\n",
    "import matplotlib.pyplot as plt\n"
   ]
  },
  {
   "cell_type": "code",
   "execution_count": 11,
   "metadata": {},
   "outputs": [
    {
     "data": {
      "text/plain": [
       "array([[1, 0, 0],\n",
       "       [0, 1, 0]])"
      ]
     },
     "execution_count": 11,
     "metadata": {},
     "output_type": "execute_result"
    }
   ],
   "source": [
    "\n",
    "def f(x):\n",
    "     Am = np.array([[0,1,0,0],[0,0, 0, -9.8],[0, 0, 0, 32.667],[0, 0, 1, 0]])\n",
    "     return np.matmul(Am,x)\n",
    "\n",
    "def g(x):\n",
    "    Bm = np.array([[0,2,-3.33,0]]).T\n",
    "    return Bm\n",
    "\n",
    "\n",
    "\n",
    "\n",
    "def lqr_policy(observation):\n",
    "\n",
    "    Q = np.identity(4)\n",
    "    R = np.identity(1)\n",
    "\n",
    "    # linearization\n",
    "    A = np.array([[0,1,0,0],[0,0, 0, -9.8],[0, 0, 0, 32.667],[0, 0, 1, 0]])\n",
    "\n",
    "    B = np.array([[0,2,-3.33,0]]).T\n",
    "\n",
    "    K, S, E = control.lqr(A,B,Q,R)\n",
    "\n",
    "\n",
    "    action = -K@observation\n",
    "\n",
    "\n",
    "    if action >= 1:\n",
    "        return np.array([[1]])\n",
    "    elif action <=-1:\n",
    "        return np.array([[-1]])\n",
    "    else:\n",
    "        return action\n",
    "\n",
    "adaptive_controller = L1_adapt(f,g)\n",
    "observation=np.zeros((4,1))\n",
    "obs_list=[]\n",
    "policy=[]\n",
    "\n",
    "for _ in range(20000):\n",
    "    \n",
    "    u_bl= lqr_policy(observation)\n",
    "\n",
    "    u=adaptive_controller.get_control_input(observation,u_bl)\n",
    "    \n",
    "    observation=adaptive_controller.plant(observation,u)\n",
    "    \n",
    "    obs_list.append(observation[3])\n",
    "    policy.append(u.squeeze(0))\n",
    "\n",
    "t = np.linspace(0,20,20000)\n",
    "plt.plot(t,obs_list)\n",
    "plt.show()\n",
    "plt.plot(t,policy,'r')\n",
    "plt.show()"
   ]
  }
 ],
 "metadata": {
  "interpreter": {
   "hash": "9e7e6cd1fea435ab5045d6533050149388c6a0e36306aa73c9ad18d75cf4b0bc"
  },
  "kernelspec": {
   "display_name": "Python 3.8.8 ('base')",
   "language": "python",
   "name": "python3"
  },
  "language_info": {
   "codemirror_mode": {
    "name": "ipython",
    "version": 3
   },
   "file_extension": ".py",
   "mimetype": "text/x-python",
   "name": "python",
   "nbconvert_exporter": "python",
   "pygments_lexer": "ipython3",
   "version": "3.8.8"
  },
  "orig_nbformat": 4
 },
 "nbformat": 4,
 "nbformat_minor": 2
}
