{
 "cells": [
  {
   "cell_type": "code",
   "execution_count": 1,
   "metadata": {},
   "outputs": [],
   "source": [
    "import numpy as np\n",
    "import control\n",
    "from l1_adaptive_controller import L1_adapt\n",
    "import matplotlib.pyplot as plt\n",
    "import gym\n",
    "import gym_cartpole_continuous"
   ]
  },
  {
   "cell_type": "code",
   "execution_count": 7,
   "metadata": {},
   "outputs": [
    {
     "ename": "TypeError",
     "evalue": "'float' object is not callable",
     "output_type": "error",
     "traceback": [
      "\u001b[1;31m---------------------------------------------------------------------------\u001b[0m",
      "\u001b[1;31mTypeError\u001b[0m                                 Traceback (most recent call last)",
      "\u001b[1;32m~\\AppData\\Local\\Temp\\ipykernel_15272\\1169203578.py\u001b[0m in \u001b[0;36m<module>\u001b[1;34m\u001b[0m\n\u001b[0;32m     44\u001b[0m \u001b[1;33m\u001b[0m\u001b[0m\n\u001b[0;32m     45\u001b[0m \u001b[1;33m\u001b[0m\u001b[0m\n\u001b[1;32m---> 46\u001b[1;33m \u001b[0madaptive_controller\u001b[0m \u001b[1;33m=\u001b[0m \u001b[0mL1_adapt\u001b[0m\u001b[1;33m(\u001b[0m\u001b[0menv\u001b[0m\u001b[1;33m,\u001b[0m\u001b[0mf\u001b[0m\u001b[1;33m,\u001b[0m\u001b[0mg\u001b[0m\u001b[1;33m)\u001b[0m\u001b[1;33m\u001b[0m\u001b[1;33m\u001b[0m\u001b[0m\n\u001b[0m\u001b[0;32m     47\u001b[0m \u001b[1;33m\u001b[0m\u001b[0m\n\u001b[0;32m     48\u001b[0m \u001b[0mobservation\u001b[0m\u001b[1;33m=\u001b[0m\u001b[0menv\u001b[0m\u001b[1;33m.\u001b[0m\u001b[0mreset\u001b[0m\u001b[1;33m(\u001b[0m\u001b[1;33m)\u001b[0m\u001b[1;33m\u001b[0m\u001b[1;33m\u001b[0m\u001b[0m\n",
      "\u001b[1;32mg:\\My Drive\\Research\\ControlML\\L1\\L1_gym\\L1_python\\l1_adaptive_controller.py\u001b[0m in \u001b[0;36m__init__\u001b[1;34m(self, env, f, g, wc, Ts)\u001b[0m\n\u001b[0;32m     32\u001b[0m         \u001b[0mself\u001b[0m\u001b[1;33m.\u001b[0m\u001b[0mx_tilde\u001b[0m \u001b[1;33m=\u001b[0m \u001b[0mnp\u001b[0m\u001b[1;33m.\u001b[0m\u001b[0mzeros\u001b[0m\u001b[1;33m(\u001b[0m\u001b[1;33m(\u001b[0m\u001b[0mself\u001b[0m\u001b[1;33m.\u001b[0m\u001b[0m_env\u001b[0m\u001b[1;33m.\u001b[0m\u001b[0mobservation_space\u001b[0m\u001b[1;33m.\u001b[0m\u001b[0mshape\u001b[0m\u001b[1;33m[\u001b[0m\u001b[1;36m0\u001b[0m\u001b[1;33m]\u001b[0m\u001b[1;33m,\u001b[0m \u001b[1;36m1\u001b[0m\u001b[1;33m)\u001b[0m\u001b[1;33m)\u001b[0m\u001b[1;33m\u001b[0m\u001b[1;33m\u001b[0m\u001b[0m\n\u001b[0;32m     33\u001b[0m         \u001b[0mself\u001b[0m\u001b[1;33m.\u001b[0m\u001b[0mu\u001b[0m \u001b[1;33m=\u001b[0m \u001b[0mnp\u001b[0m\u001b[1;33m.\u001b[0m\u001b[0mzeros\u001b[0m\u001b[1;33m(\u001b[0m\u001b[1;33m(\u001b[0m\u001b[0mself\u001b[0m\u001b[1;33m.\u001b[0m\u001b[0m_env\u001b[0m\u001b[1;33m.\u001b[0m\u001b[0maction_space\u001b[0m\u001b[1;33m.\u001b[0m\u001b[0mshape\u001b[0m\u001b[1;33m[\u001b[0m\u001b[1;36m0\u001b[0m\u001b[1;33m]\u001b[0m\u001b[1;33m,\u001b[0m \u001b[1;36m1\u001b[0m\u001b[1;33m)\u001b[0m\u001b[1;33m)\u001b[0m\u001b[1;33m\u001b[0m\u001b[1;33m\u001b[0m\u001b[0m\n\u001b[1;32m---> 34\u001b[1;33m         \u001b[0mself\u001b[0m\u001b[1;33m.\u001b[0m\u001b[0mn\u001b[0m \u001b[1;33m=\u001b[0m \u001b[0mself\u001b[0m\u001b[1;33m.\u001b[0m\u001b[0mg\u001b[0m\u001b[1;33m(\u001b[0m\u001b[0mself\u001b[0m\u001b[1;33m.\u001b[0m\u001b[0mx\u001b[0m\u001b[1;33m)\u001b[0m\u001b[1;33m.\u001b[0m\u001b[0mshape\u001b[0m\u001b[1;33m[\u001b[0m\u001b[1;36m0\u001b[0m\u001b[1;33m]\u001b[0m\u001b[1;33m\u001b[0m\u001b[1;33m\u001b[0m\u001b[0m\n\u001b[0m\u001b[0;32m     35\u001b[0m         \u001b[0mself\u001b[0m\u001b[1;33m.\u001b[0m\u001b[0mm\u001b[0m \u001b[1;33m=\u001b[0m \u001b[0mself\u001b[0m\u001b[1;33m.\u001b[0m\u001b[0mg\u001b[0m\u001b[1;33m(\u001b[0m\u001b[0mself\u001b[0m\u001b[1;33m.\u001b[0m\u001b[0mx\u001b[0m\u001b[1;33m)\u001b[0m\u001b[1;33m.\u001b[0m\u001b[0mshape\u001b[0m\u001b[1;33m[\u001b[0m\u001b[1;36m1\u001b[0m\u001b[1;33m]\u001b[0m\u001b[1;33m\u001b[0m\u001b[1;33m\u001b[0m\u001b[0m\n\u001b[0;32m     36\u001b[0m \u001b[1;33m\u001b[0m\u001b[0m\n",
      "\u001b[1;31mTypeError\u001b[0m: 'float' object is not callable"
     ]
    }
   ],
   "source": [
    "def f(x):\n",
    "    Am = np.array([[0, 1, 0, 0], [0, 0, -0.98, 0],\n",
    "                    [0, 0, 0, 1], [0, 0, 21.56, 0]])\n",
    "    return np.matmul(Am, x)\n",
    "\n",
    "\n",
    "def g(x):\n",
    "    Bm = np.array([[0, 1, 0, -2]]).T\n",
    "    return Bm\n",
    "\n",
    "def lqr_policy(observation):\n",
    "\n",
    "    # cost function\n",
    "\n",
    "    Q = np.identity(4)\n",
    "    R = np.identity(1)\n",
    "\n",
    "    # linearization\n",
    "    #A = np.identity(4)\n",
    "    rn = np.random.normal(0, 1)\n",
    "    A = np.array([[0, 1, 0, 0], [0, 0, -0.98, 0],\n",
    "                 [0, 0, 0, 1], [0, 0, 21.56, 0]])\n",
    "\n",
    "    #B = np.ones((4,1))\n",
    "    B = np.array([[0, 1, 0, -2]]).T\n",
    "\n",
    "    K, S, E = control.lqr(A, B, Q, R)\n",
    "\n",
    "    action = -1*np.dot(K, observation)\n",
    "\n",
    "    if action >= 1:\n",
    "        return np.array([1])\n",
    "    elif action <= -1:\n",
    "        return np.array([-1])\n",
    "    else:\n",
    "        return action\n",
    "\n",
    "env = gym.make('CartPoleContinuous-v0')\n",
    "M = float(env.masscart)\n",
    "m = float(env.masspole)\n",
    "l = float(env.length)\n",
    "g = float(env.gravity)\n",
    "\n",
    "\n",
    "\n",
    "adaptive_controller = L1_adapt(env,f,g)\n",
    "\n",
    "observation=env.reset()\n",
    "\n",
    "obs_list=[]\n",
    "policy=[]\n",
    "# m_uncertainty = []\n",
    "# um_uncertainty_1 = []\n",
    "# um_uncertainty_2 = []\n",
    "# um_uncertainty_3 = []\n",
    "\n",
    "\n",
    "for _ in range(2000):\n",
    "    \n",
    "    u_bl= lqr_policy(observation)\n",
    "\n",
    "    # u =adaptive_controller.get_control_input(observation,u_bl)\n",
    "    \n",
    "    observation=adaptive_controller.plant(observation,u_bl)\n",
    "    obs_list.append(observation[2])\n",
    "    policy.append(u_bl.squeeze(0))\n",
    "\n",
    "\n"
   ]
  },
  {
   "cell_type": "code",
   "execution_count": 6,
   "metadata": {},
   "outputs": [
    {
     "data": {
      "image/png": "[encoded data removed]",
      "text/plain": [
       "<Figure size 432x288 with 1 Axes>"
      ]
     },
     "metadata": {
      "needs_background": "light"
     },
     "output_type": "display_data"
    },
    {
     "data": {
      "image/png": "[encoded data removed]",
      "text/plain": [
       "<Figure size 432x288 with 1 Axes>"
      ]
     },
     "metadata": {
      "needs_background": "light"
     },
     "output_type": "display_data"
    }
   ],
   "source": [
    "t = np.linspace(0,20,2000)\n",
    "plt.plot(t,obs_list)\n",
    "plt.xlabel('Time (t)')\n",
    "plt.ylabel(r'Angle ($\\theta$)')\n",
    "plt.legend([r'$\\theta$'])\n",
    "plt.savefig('Trajectory_python.png', format = 'png')\n",
    "plt.show()\n",
    "\n",
    "plt.plot(t,policy,'r')\n",
    "plt.xlabel('Time (t)')\n",
    "plt.ylabel('Control input (u)')\n",
    "plt.legend([r'$u$'])\n",
    "plt.savefig('Control-input_python.png', format = 'png')\n",
    "plt.show()"
   ]
  }
 ],
 "metadata": {
  "kernelspec": {
   "display_name": "Python 3.7.13 ('l1_gym')",
   "language": "python",
   "name": "python3"
  },
  "language_info": {
   "codemirror_mode": {
    "name": "ipython",
    "version": 3
   },
   "file_extension": ".py",
   "mimetype": "text/x-python",
   "name": "python",
   "nbconvert_exporter": "python",
   "pygments_lexer": "ipython3",
   "version": "3.7.13"
  },
  "orig_nbformat": 4,
  "vscode": {
   "interpreter": {
    "hash": "c5ff1d7585574a4f929dc35a969913132522cc61086335e835e25c20ee924cc9"
   }
  }
 },
 "nbformat": 4,
 "nbformat_minor": 2
}
